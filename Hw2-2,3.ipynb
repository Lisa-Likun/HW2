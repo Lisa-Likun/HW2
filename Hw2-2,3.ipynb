{
 "cells": [
  {
   "cell_type": "code",
   "execution_count": 0,
   "metadata": {
    "id": "nh6eXGiQalrm",
    "colab_type": "code",
    "outputId": "7f1210c7-3441-405a-c187-1b246e0bab78",
    "colab": {
     "base_uri": "https://localhost:8080/",
     "height": 68.0
    }
   },
   "outputs": [
    {
     "name": "stdout",
     "output_type": "stream",
     "text": [
      "a=3\n",
      "3\n",
      "('Time used:', 2.0853869915008545)\n"
     ]
    }
   ],
   "source": [
    "import sys\n",
    "import time\n",
    "\n",
    "\n",
    "\n",
    "def main():\n",
    "\n",
    "    a=(input(\"a=\"))\n",
    "    b=1\n",
    "    p=0\n",
    "    c=\"This is a wrong number\"\n",
    "    \n",
    "    #if a%2==0 or a%5==0:\n",
    "     # print c\n",
    "      #sys.exit()\n",
    "\n",
    "      \n",
    "    for x in range(1,10000):\n",
    "        p+=10**(x-1)\n",
    "        if p<a:\n",
    "          continue\n",
    "        if p%a==0:\n",
    "          print x\n",
    "          break\n",
    " \n",
    "\n",
    "main()\n"
   ]
  },
  {
   "cell_type": "code",
   "execution_count": 0,
   "metadata": {
    "id": "YPQRGXQIAc_4",
    "colab_type": "code",
    "outputId": "2428dbe0-715c-46f1-bc61-a9a28659c083",
    "colab": {
     "base_uri": "https://localhost:8080/",
     "height": 85.0
    }
   },
   "outputs": [
    {
     "name": "stdout",
     "output_type": "stream",
     "text": [
      "78596\n",
      "78621\n",
      "('The probability that Tony is not being scolded', 0)\n",
      "('The probability that Tony is not being scolded', 0)\n"
     ]
    }
   ],
   "source": [
    "import random\n",
    "\n",
    "def main():\n",
    "    tony=[0,0,0,1,1,1]\n",
    "    ian=[0,0,0,0,1,1]\n",
    "    tlable=[None]*20\n",
    "    ilable=[None]*20\n",
    "    tnumber=0\n",
    "    inumber=0\n",
    "    n=100000\n",
    "    n1=20\n",
    "    trate=0.000\n",
    "    irate=0.000\n",
    "    for j in range (n):\n",
    "      for i in range(n1):\n",
    "        tlable[i]=random.choice(tony)\n",
    "        if i>=2:\n",
    "          if tlable[i]==0 and tlable[i-1]==0 and tlable[i-2]==0:\n",
    "            tnumber+=1\n",
    "            break\n",
    "      for i in range(n1):\n",
    "        ilable[i]=random.choice(tony)\n",
    "        if i>=2:\n",
    "          if ilable[i]==0 and ilable[i-1]==0 and ilable[i-2]==0:\n",
    "            inumber+=1\n",
    "            break\n",
    "    print tnumber\n",
    "    print inumber\n",
    "    trate=tnumber/n\n",
    "    irate=inumber/n\n",
    "    print(\"The probability that Tony is not being scolded\",trate)  \n",
    "    print(\"The probability that Tony is not being scolded\",irate)  \n",
    "      \n",
    "\n",
    "main()"
   ]
  },
  {
   "cell_type": "code",
   "execution_count": 0,
   "metadata": {
    "id": "DiZsat_EXzMI",
    "colab_type": "code",
    "colab": {}
   },
   "outputs": [],
   "source": [
    ""
   ]
  }
 ],
 "metadata": {
  "colab": {
   "name": "Untitled17.ipynb",
   "version": "0.3.2",
   "provenance": [],
   "collapsed_sections": []
  },
  "kernelspec": {
   "name": "python2",
   "display_name": "Python 2"
  }
 },
 "nbformat": 4,
 "nbformat_minor": 0
}
